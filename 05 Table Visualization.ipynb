{
 "cells": [
  {
   "cell_type": "markdown",
   "id": "eb237ab6",
   "metadata": {},
   "source": [
    "# Table Visualization"
   ]
  },
  {
   "cell_type": "markdown",
   "id": "b14301ba",
   "metadata": {},
   "source": [
    "This demonstrates visualization of tabular data using the Styler class."
   ]
  },
  {
   "cell_type": "markdown",
   "id": "6478b02f",
   "metadata": {},
   "source": [
    "Styler Object and HTML"
   ]
  },
  {
   "cell_type": "markdown",
   "id": "18002b36",
   "metadata": {},
   "source": [
    "Styling should be performed after the data in a DataFrame has been processed. The Styler creates an HTML <table> and leverages CSS styling language to manipulate many parameters including colors, fonts, borders, background, etc. This allows a lot of flexibility out of the box, and even enables web developers to integrate DataFrames into their exiting user interface designs.\n",
    "\n",
    "The DataFrame.style attribute is a property that returns a Styler object."
   ]
  },
  {
   "cell_type": "code",
   "execution_count": 1,
   "id": "33b0da49",
   "metadata": {},
   "outputs": [],
   "source": [
    "import pandas as pd\n",
    "import numpy as np"
   ]
  },
  {
   "cell_type": "code",
   "execution_count": 3,
   "id": "379d2c2b",
   "metadata": {},
   "outputs": [],
   "source": [
    "df = pd.DataFrame(\n",
    "    [\n",
    "        [38.0, 2.0, 18.0, 22.0, 21, np.nan],\n",
    "        [19, 439, 6, 452, 226,232]\n",
    "    ],\n",
    "    index=pd.Index(\n",
    "        ['Tumour (Positive)', 'Non-Tumour (Negative)'], \n",
    "        name='Actual Label:'\n",
    "    ),\n",
    "    columns=pd.MultiIndex.from_product(\n",
    "        [\n",
    "            ['Decision Tree', 'Regression', 'Random'],\n",
    "            ['Tumour', 'Non-Tumour']], \n",
    "        names=['Model:', 'Predicted:']\n",
    "    )\n",
    ")"
   ]
  },
  {
   "cell_type": "markdown",
   "id": "7d75fc00",
   "metadata": {},
   "source": [
    "Lets see the output"
   ]
  },
  {
   "cell_type": "code",
   "execution_count": 4,
   "id": "62345366",
   "metadata": {},
   "outputs": [
    {
     "data": {
      "text/html": [
       "<style type=\"text/css\">\n",
       "</style>\n",
       "<table id=\"T_9391c_\">\n",
       "  <thead>\n",
       "    <tr>\n",
       "      <th class=\"index_name level0\" >Model:</th>\n",
       "      <th class=\"col_heading level0 col0\" colspan=\"2\">Decision Tree</th>\n",
       "      <th class=\"col_heading level0 col2\" colspan=\"2\">Regression</th>\n",
       "      <th class=\"col_heading level0 col4\" colspan=\"2\">Random</th>\n",
       "    </tr>\n",
       "    <tr>\n",
       "      <th class=\"index_name level1\" >Predicted:</th>\n",
       "      <th class=\"col_heading level1 col0\" >Tumour</th>\n",
       "      <th class=\"col_heading level1 col1\" >Non-Tumour</th>\n",
       "      <th class=\"col_heading level1 col2\" >Tumour</th>\n",
       "      <th class=\"col_heading level1 col3\" >Non-Tumour</th>\n",
       "      <th class=\"col_heading level1 col4\" >Tumour</th>\n",
       "      <th class=\"col_heading level1 col5\" >Non-Tumour</th>\n",
       "    </tr>\n",
       "    <tr>\n",
       "      <th class=\"index_name level0\" >Actual Label:</th>\n",
       "      <th class=\"blank col0\" >&nbsp;</th>\n",
       "      <th class=\"blank col1\" >&nbsp;</th>\n",
       "      <th class=\"blank col2\" >&nbsp;</th>\n",
       "      <th class=\"blank col3\" >&nbsp;</th>\n",
       "      <th class=\"blank col4\" >&nbsp;</th>\n",
       "      <th class=\"blank col5\" >&nbsp;</th>\n",
       "    </tr>\n",
       "  </thead>\n",
       "  <tbody>\n",
       "    <tr>\n",
       "      <th id=\"T_9391c_level0_row0\" class=\"row_heading level0 row0\" >Tumour (Positive)</th>\n",
       "      <td id=\"T_9391c_row0_col0\" class=\"data row0 col0\" >38.000000</td>\n",
       "      <td id=\"T_9391c_row0_col1\" class=\"data row0 col1\" >2.000000</td>\n",
       "      <td id=\"T_9391c_row0_col2\" class=\"data row0 col2\" >18.000000</td>\n",
       "      <td id=\"T_9391c_row0_col3\" class=\"data row0 col3\" >22.000000</td>\n",
       "      <td id=\"T_9391c_row0_col4\" class=\"data row0 col4\" >21</td>\n",
       "      <td id=\"T_9391c_row0_col5\" class=\"data row0 col5\" >nan</td>\n",
       "    </tr>\n",
       "    <tr>\n",
       "      <th id=\"T_9391c_level0_row1\" class=\"row_heading level0 row1\" >Non-Tumour (Negative)</th>\n",
       "      <td id=\"T_9391c_row1_col0\" class=\"data row1 col0\" >19.000000</td>\n",
       "      <td id=\"T_9391c_row1_col1\" class=\"data row1 col1\" >439.000000</td>\n",
       "      <td id=\"T_9391c_row1_col2\" class=\"data row1 col2\" >6.000000</td>\n",
       "      <td id=\"T_9391c_row1_col3\" class=\"data row1 col3\" >452.000000</td>\n",
       "      <td id=\"T_9391c_row1_col4\" class=\"data row1 col4\" >226</td>\n",
       "      <td id=\"T_9391c_row1_col5\" class=\"data row1 col5\" >232.000000</td>\n",
       "    </tr>\n",
       "  </tbody>\n",
       "</table>\n"
      ],
      "text/plain": [
       "<pandas.io.formats.style.Styler at 0x7fec40ef9f10>"
      ]
     },
     "execution_count": 4,
     "metadata": {},
     "output_type": "execute_result"
    }
   ],
   "source": [
    "df.style"
   ]
  },
  {
   "cell_type": "markdown",
   "id": "1fd3a807",
   "metadata": {},
   "source": [
    "The above output looks very similar to the standard DataFrame HTML representation. But the HTML here has already attached some CSS classes to each cell, even if we haven’t yet created any styles. We can view these by calling the .render() method, which returns the raw HTML as string, which is useful for further processing or adding to a file - read on in More about CSS and HTML. Below we will show how we can use these to format the DataFrame to be more communicative."
   ]
  }
 ],
 "metadata": {
  "kernelspec": {
   "display_name": "Python 3 (ipykernel)",
   "language": "python",
   "name": "python3"
  },
  "language_info": {
   "codemirror_mode": {
    "name": "ipython",
    "version": 3
   },
   "file_extension": ".py",
   "mimetype": "text/x-python",
   "name": "python",
   "nbconvert_exporter": "python",
   "pygments_lexer": "ipython3",
   "version": "3.9.4"
  }
 },
 "nbformat": 4,
 "nbformat_minor": 5
}
