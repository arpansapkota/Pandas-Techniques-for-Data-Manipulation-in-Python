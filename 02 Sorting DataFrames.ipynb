{
 "cells": [
  {
   "cell_type": "markdown",
   "id": "15bae1f8",
   "metadata": {},
   "source": [
    "# Sorting DataFrames"
   ]
  },
  {
   "cell_type": "markdown",
   "id": "47b82c36",
   "metadata": {},
   "source": [
    "We can use df.sort_values in order to sort Pandas DataFrame."
   ]
  },
  {
   "cell_type": "code",
   "execution_count": 1,
   "id": "2134e7e6",
   "metadata": {},
   "outputs": [
    {
     "name": "stdout",
     "output_type": "stream",
     "text": [
      "  Brand  Price  Year\n",
      "0    HH  22000  2015\n",
      "1    TT  25000  2013\n",
      "2    FF  27000  2018\n",
      "3    AA  35000  2018\n"
     ]
    }
   ],
   "source": [
    "import pandas as pd\n",
    " \n",
    "data = {'Brand': ['HH','TT','FF','AA'],\n",
    "        'Price': [22000,25000,27000,35000],\n",
    "        'Year': [2015,2013,2018,2018]\n",
    "        }\n",
    " \n",
    "df = pd.DataFrame(data, columns=['Brand','Price','Year'])\n",
    "\n",
    "print (df)"
   ]
  },
  {
   "cell_type": "markdown",
   "id": "96f779b4",
   "metadata": {},
   "source": [
    "Sort Pandas DataFrame in an ascending order"
   ]
  },
  {
   "cell_type": "markdown",
   "id": "2123520f",
   "metadata": {},
   "source": [
    "Let’s say that we want to sort the DataFrame, such that the Brand will be displayed in an ascending order. In that case, we need to add the following syntax to the code:"
   ]
  },
  {
   "cell_type": "code",
   "execution_count": 2,
   "id": "20538a7c",
   "metadata": {},
   "outputs": [],
   "source": [
    "# sort Brand in an ascending order\n",
    "df.sort_values(by=['Brand'], inplace=True)"
   ]
  },
  {
   "cell_type": "markdown",
   "id": "92f70d97",
   "metadata": {},
   "source": [
    "Note that unless specified, the values will be sorted in an ascending order by default."
   ]
  },
  {
   "cell_type": "markdown",
   "id": "ddbb82cb",
   "metadata": {},
   "source": [
    "Sorted Dataframe in ascending order look like this:"
   ]
  },
  {
   "cell_type": "code",
   "execution_count": 3,
   "id": "d754665b",
   "metadata": {},
   "outputs": [
    {
     "name": "stdout",
     "output_type": "stream",
     "text": [
      "  Brand  Price  Year\n",
      "3    AA  35000  2018\n",
      "2    FF  27000  2018\n",
      "0    HH  22000  2015\n",
      "1    TT  25000  2013\n"
     ]
    }
   ],
   "source": [
    "print (df)"
   ]
  },
  {
   "cell_type": "markdown",
   "id": "e289084c",
   "metadata": {},
   "source": [
    "When we run the code, we notice that the Brand will indeed get sorted in an ascending order, where ‘AA’ would be the first record, while ‘TT’ would be the last:"
   ]
  },
  {
   "cell_type": "markdown",
   "id": "440fd268",
   "metadata": {},
   "source": [
    "Sort Pandas DataFrame in a descending order"
   ]
  },
  {
   "cell_type": "markdown",
   "id": "74ea6928",
   "metadata": {},
   "source": [
    "Alternatively, we can sort the Brand column in a descending order. To do that, simply add the condition of ascending=False in the following manner:"
   ]
  },
  {
   "cell_type": "code",
   "execution_count": 4,
   "id": "7594c717",
   "metadata": {},
   "outputs": [],
   "source": [
    "# sort Brand in a descending order\n",
    "df.sort_values(by=['Brand'], inplace=True, ascending=False)"
   ]
  },
  {
   "cell_type": "markdown",
   "id": "e9bbffe3",
   "metadata": {},
   "source": [
    "Sorted Dataframe in descending order look like this:"
   ]
  },
  {
   "cell_type": "code",
   "execution_count": 5,
   "id": "10a83c85",
   "metadata": {},
   "outputs": [
    {
     "name": "stdout",
     "output_type": "stream",
     "text": [
      "  Brand  Price  Year\n",
      "1    TT  25000  2013\n",
      "0    HH  22000  2015\n",
      "2    FF  27000  2018\n",
      "3    AA  35000  2018\n"
     ]
    }
   ],
   "source": [
    "print (df)"
   ]
  },
  {
   "cell_type": "markdown",
   "id": "8d113bcc",
   "metadata": {},
   "source": [
    "We now notice that ‘TT’ would be the first record, while ‘AA’ would be the last (as we would expect to get when applying a descending order for our sample):"
   ]
  },
  {
   "cell_type": "markdown",
   "id": "cd5512be",
   "metadata": {},
   "source": [
    "Sort by multiple columns"
   ]
  },
  {
   "cell_type": "markdown",
   "id": "af620db8",
   "metadata": {},
   "source": [
    "In this case, we may use the following template to sort by multiple columns:"
   ]
  },
  {
   "cell_type": "code",
   "execution_count": null,
   "id": "e635454f",
   "metadata": {},
   "outputs": [],
   "source": [
    "df.sort_values(by=['First Column','Second Column',...], inplace=True)"
   ]
  },
  {
   "cell_type": "markdown",
   "id": "100f0fe5",
   "metadata": {},
   "source": [
    "Suppose that we want to sort by both the ‘Year’ and the ‘Price.’ Since we have two records where the Year is 2018 (i.e., for the ‘FF’ and the ‘AA’ brands), then sorting by a second column – the ‘Price’ column –  would be useful:"
   ]
  },
  {
   "cell_type": "code",
   "execution_count": 8,
   "id": "f16320e5",
   "metadata": {},
   "outputs": [],
   "source": [
    "# sort by multiple columns: Year and Price\n",
    "df.sort_values(by=['Year','Price'], inplace=True)"
   ]
  },
  {
   "cell_type": "code",
   "execution_count": 9,
   "id": "3d51a984",
   "metadata": {},
   "outputs": [
    {
     "name": "stdout",
     "output_type": "stream",
     "text": [
      "  Brand  Price  Year\n",
      "1    TT  25000  2013\n",
      "0    HH  22000  2015\n",
      "2    FF  27000  2018\n",
      "3    AA  35000  2018\n"
     ]
    }
   ],
   "source": [
    "print (df)"
   ]
  },
  {
   "cell_type": "markdown",
   "id": "efcc4175",
   "metadata": {},
   "source": [
    "Notice that all the records are now sorted by both the year and the price in an ascending order, so ‘FF’ would appear before ‘AA’:"
   ]
  },
  {
   "cell_type": "markdown",
   "id": "9512b85a",
   "metadata": {},
   "source": [
    "Also note that the ‘Year’ column takes the priority when performing the sorting, as it was placed in the df.sort_values before the ‘Price’ column.\n"
   ]
  }
 ],
 "metadata": {
  "kernelspec": {
   "display_name": "Python 3 (ipykernel)",
   "language": "python",
   "name": "python3"
  },
  "language_info": {
   "codemirror_mode": {
    "name": "ipython",
    "version": 3
   },
   "file_extension": ".py",
   "mimetype": "text/x-python",
   "name": "python",
   "nbconvert_exporter": "python",
   "pygments_lexer": "ipython3",
   "version": "3.9.4"
  }
 },
 "nbformat": 4,
 "nbformat_minor": 5
}
