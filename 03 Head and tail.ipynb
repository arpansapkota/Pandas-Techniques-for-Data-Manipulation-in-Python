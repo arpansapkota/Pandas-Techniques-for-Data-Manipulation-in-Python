{
 "cells": [
  {
   "cell_type": "markdown",
   "id": "8487986f",
   "metadata": {},
   "source": [
    "# Head and tail"
   ]
  },
  {
   "cell_type": "markdown",
   "id": "4188d5dd",
   "metadata": {},
   "source": [
    " To view a small sample of a Series or DataFrame object, use the head() and tail() methods. The default number of elements to display is five, but you may pass a custom number."
   ]
  },
  {
   "cell_type": "markdown",
   "id": "907e6ac4",
   "metadata": {},
   "source": [
    "head() returns the first n rows(observe the index values). The default number of elements to display is five, but you may pass a custom number."
   ]
  },
  {
   "cell_type": "markdown",
   "id": "59c94aa5",
   "metadata": {},
   "source": [
    "tail() returns the last n rows(observe the index values). The default number of elements to display is five, but you may pass a custom number."
   ]
  },
  {
   "cell_type": "code",
   "execution_count": 12,
   "id": "14197fa7",
   "metadata": {},
   "outputs": [],
   "source": [
    "import pandas as pd\n",
    "import numpy as np"
   ]
  },
  {
   "cell_type": "markdown",
   "id": "ed02e286",
   "metadata": {},
   "source": [
    "Create a series with random numbers"
   ]
  },
  {
   "cell_type": "code",
   "execution_count": 13,
   "id": "794d51f2",
   "metadata": {},
   "outputs": [],
   "source": [
    "long_series = pd.Series(np.random.randn(1000))\n",
    " "
   ]
  },
  {
   "cell_type": "markdown",
   "id": "7a86c03a",
   "metadata": {},
   "source": [
    "The first five rows of the data series:"
   ]
  },
  {
   "cell_type": "code",
   "execution_count": 14,
   "id": "5b3861bc",
   "metadata": {},
   "outputs": [
    {
     "data": {
      "text/plain": [
       "0    0.580156\n",
       "1    0.469914\n",
       "2   -0.744791\n",
       "3   -2.381032\n",
       "4    0.954909\n",
       "dtype: float64"
      ]
     },
     "execution_count": 14,
     "metadata": {},
     "output_type": "execute_result"
    }
   ],
   "source": [
    " long_series.head()"
   ]
  },
  {
   "cell_type": "markdown",
   "id": "e4bea6cb",
   "metadata": {},
   "source": [
    "The last three rows of the data series:"
   ]
  },
  {
   "cell_type": "code",
   "execution_count": 17,
   "id": "6203bf10",
   "metadata": {},
   "outputs": [
    {
     "data": {
      "text/plain": [
       "997    0.294750\n",
       "998   -1.108673\n",
       "999    0.013724\n",
       "dtype: float64"
      ]
     },
     "execution_count": 17,
     "metadata": {},
     "output_type": "execute_result"
    }
   ],
   "source": [
    "long_series.tail(3)"
   ]
  }
 ],
 "metadata": {
  "kernelspec": {
   "display_name": "Python 3 (ipykernel)",
   "language": "python",
   "name": "python3"
  },
  "language_info": {
   "codemirror_mode": {
    "name": "ipython",
    "version": 3
   },
   "file_extension": ".py",
   "mimetype": "text/x-python",
   "name": "python",
   "nbconvert_exporter": "python",
   "pygments_lexer": "ipython3",
   "version": "3.9.4"
  }
 },
 "nbformat": 4,
 "nbformat_minor": 5
}
