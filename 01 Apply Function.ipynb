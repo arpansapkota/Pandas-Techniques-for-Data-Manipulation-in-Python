{
 "cells": [
  {
   "cell_type": "markdown",
   "id": "ba7a4ac7",
   "metadata": {},
   "source": [
    "# Apply Function"
   ]
  },
  {
   "cell_type": "markdown",
   "id": "33d4ab3e",
   "metadata": {},
   "source": [
    "Apply function in pands is one of the commonly used functions for manipulating a pandas dataframe and creating new variables. Pandas Apply function returns some value after passing each row/column of a data frame with some function. The function can be both default or user-defined. \n",
    "For instance, here it can be used to find the missing values in each row and column."
   ]
  },
  {
   "cell_type": "markdown",
   "id": "f9ee3417",
   "metadata": {},
   "source": [
    "Applying a function to all rows in a Pandas DataFrame is one of the most common operations during data wrangling. Pandas DataFrame apply function is the most obvious choice for doing it. It takes a function as an argument and applies it along an axis of the DataFrame. However, it is not always the best choice."
   ]
  },
  {
   "cell_type": "code",
   "execution_count": 1,
   "id": "df89ef02",
   "metadata": {},
   "outputs": [],
   "source": [
    "# Import pandas package\n",
    "import pandas as pd"
   ]
  },
  {
   "cell_type": "code",
   "execution_count": 2,
   "id": "a00e559d",
   "metadata": {},
   "outputs": [],
   "source": [
    "# Function to add\n",
    "def add(a, b, c):\n",
    "    return a + b + c"
   ]
  },
  {
   "cell_type": "code",
   "execution_count": 3,
   "id": "19a3f6ba",
   "metadata": {},
   "outputs": [
    {
     "name": "stdout",
     "output_type": "stream",
     "text": [
      "Original DataFrame:\n",
      "    A  B  C\n",
      "0  1  4  7\n",
      "1  2  5  8\n",
      "2  3  6  9\n",
      "\n",
      "After Applying Function: \n",
      "   A  B  C  add\n",
      "0  1  4  7   12\n",
      "1  2  5  8   15\n",
      "2  3  6  9   18\n"
     ]
    }
   ],
   "source": [
    "def main():\n",
    "     \n",
    "    # create a dictionary with\n",
    "    # three fields each\n",
    "    data = {\n",
    "            'A':[1, 2, 3],\n",
    "            'B':[4, 5, 6],\n",
    "            'C':[7, 8, 9] }\n",
    "     \n",
    "    # Convert the dictionary into DataFrame\n",
    "    df = pd.DataFrame(data)\n",
    "    print(\"Original DataFrame:\\n\", df)\n",
    "     \n",
    "    df['add'] = df.apply(lambda row : add(row['A'],\n",
    "                     row['B'], row['C']), axis = 1)\n",
    "  \n",
    "    print('\\nAfter Applying Function: ')\n",
    "    # printing the new dataframe\n",
    "    print(df)\n",
    "  \n",
    "if __name__ == '__main__':\n",
    "    main()"
   ]
  }
 ],
 "metadata": {
  "kernelspec": {
   "display_name": "Python 3 (ipykernel)",
   "language": "python",
   "name": "python3"
  },
  "language_info": {
   "codemirror_mode": {
    "name": "ipython",
    "version": 3
   },
   "file_extension": ".py",
   "mimetype": "text/x-python",
   "name": "python",
   "nbconvert_exporter": "python",
   "pygments_lexer": "ipython3",
   "version": "3.9.4"
  }
 },
 "nbformat": 4,
 "nbformat_minor": 5
}
